{
 "cells": [
  {
   "cell_type": "markdown",
   "metadata": {},
   "source": [
    "# Overwatch Season 12 Data Analysis"
   ]
  },
  {
   "cell_type": "markdown",
   "metadata": {},
   "source": [
    "## What is Overwatch?"
   ]
  },
  {
   "cell_type": "markdown",
   "metadata": {},
   "source": [
    "Overwatch is a team-based multiplayer first-person shooter game developed and published by Blizzard Entertainment, which was released in 2016. You can play Overwatch on PC, PS4, and Xbox one!\n",
    "\n",
    "In game, Overwatch puts players into two teams of six, divided into various roles such as DPS (Damage Per Second), Tank and Support. Players are expected to work together to secure and defend control points, escort a payload across the map within a set time, or a combination of both. Like League of Legends, players can gain cosmetic rewards that do not affect gameplay and there is a competitive mode which players can rise up the ranks. \n",
    "\n",
    "Overwatch has grown to be one of the most popular online games, with over 40 million players as of 2018. It has a significant presence in the Esports industry with the Overwatch League, which runs from January-September and is divided into 4 different \"stages\" ending with the grand finals. However, with the rise of Battle Royale games such as Fortnite and PUBG, Overwatch has died a little, yet it is still going strong!"
   ]
  },
  {
   "cell_type": "markdown",
   "metadata": {},
   "source": [
    "#### About this Project"
   ]
  },
  {
   "cell_type": "markdown",
   "metadata": {},
   "source": [
    "This is a project I had originally started last year during Overwatch Season 12 where I wanted to see my performance compared to previous seasons, unfortunately a lot of this information is incomplete and I hope to do another version of this project once role-lock is put into place in the newest competitive season. This is just a simple analysis of my performance for a brief time period during Season 12, which took place during August 2018-October 2018. \n",
    "\n",
    "For context, Overwatch is one of my favorite games to play online, which is another reason why I decided to do this project."
   ]
  },
  {
   "cell_type": "code",
   "execution_count": 10,
   "metadata": {},
   "outputs": [],
   "source": [
    "#Let's import some necessary Libraries \n",
    "import os \n",
    "import pandas as pd\n",
    "import numpy as np\n",
    "import matplotlib.pyplot as plt \n",
    "\n",
    "OW_trends312 = pd.read_csv(r'..Season3-12WinLossData.csv')"
   ]
  },
  {
   "cell_type": "code",
   "execution_count": 11,
   "metadata": {},
   "outputs": [
    {
     "data": {
      "text/html": [
       "<div>\n",
       "<style scoped>\n",
       "    .dataframe tbody tr th:only-of-type {\n",
       "        vertical-align: middle;\n",
       "    }\n",
       "\n",
       "    .dataframe tbody tr th {\n",
       "        vertical-align: top;\n",
       "    }\n",
       "\n",
       "    .dataframe thead th {\n",
       "        text-align: right;\n",
       "    }\n",
       "</style>\n",
       "<table border=\"1\" class=\"dataframe\">\n",
       "  <thead>\n",
       "    <tr style=\"text-align: right;\">\n",
       "      <th></th>\n",
       "      <th>Season</th>\n",
       "      <th>Placed</th>\n",
       "      <th>Ended</th>\n",
       "      <th>Unnamed: 3</th>\n",
       "      <th>SEASON High</th>\n",
       "      <th>Total WINS</th>\n",
       "      <th>Total Losses</th>\n",
       "      <th>Total ties</th>\n",
       "      <th>Total played</th>\n",
       "    </tr>\n",
       "  </thead>\n",
       "  <tbody>\n",
       "    <tr>\n",
       "      <th>0</th>\n",
       "      <td>Season 3</td>\n",
       "      <td>2010</td>\n",
       "      <td>1649.0</td>\n",
       "      <td>NaN</td>\n",
       "      <td>2275</td>\n",
       "      <td>15.0</td>\n",
       "      <td>25.0</td>\n",
       "      <td>2.0</td>\n",
       "      <td>42.0</td>\n",
       "    </tr>\n",
       "    <tr>\n",
       "      <th>1</th>\n",
       "      <td>Season 4</td>\n",
       "      <td>1645</td>\n",
       "      <td>1379.0</td>\n",
       "      <td>NaN</td>\n",
       "      <td>1668</td>\n",
       "      <td>98.0</td>\n",
       "      <td>101.0</td>\n",
       "      <td>7.0</td>\n",
       "      <td>206.0</td>\n",
       "    </tr>\n",
       "    <tr>\n",
       "      <th>2</th>\n",
       "      <td>Season 5</td>\n",
       "      <td>1350</td>\n",
       "      <td>1520.0</td>\n",
       "      <td>NaN</td>\n",
       "      <td>1920</td>\n",
       "      <td>251.0</td>\n",
       "      <td>258.0</td>\n",
       "      <td>22.0</td>\n",
       "      <td>531.0</td>\n",
       "    </tr>\n",
       "    <tr>\n",
       "      <th>3</th>\n",
       "      <td>Season 6</td>\n",
       "      <td>1773</td>\n",
       "      <td>1845.0</td>\n",
       "      <td>NaN</td>\n",
       "      <td>1998</td>\n",
       "      <td>223.0</td>\n",
       "      <td>191.0</td>\n",
       "      <td>18.0</td>\n",
       "      <td>432.0</td>\n",
       "    </tr>\n",
       "    <tr>\n",
       "      <th>4</th>\n",
       "      <td>Season 7</td>\n",
       "      <td>1950</td>\n",
       "      <td>2084.0</td>\n",
       "      <td>NaN</td>\n",
       "      <td>2107</td>\n",
       "      <td>106.0</td>\n",
       "      <td>110.0</td>\n",
       "      <td>10.0</td>\n",
       "      <td>226.0</td>\n",
       "    </tr>\n",
       "  </tbody>\n",
       "</table>\n",
       "</div>"
      ],
      "text/plain": [
       "      Season  Placed   Ended  Unnamed: 3  SEASON High   Total WINS  \\\n",
       "0  Season 3     2010  1649.0         NaN          2275        15.0   \n",
       "1   Season 4    1645  1379.0         NaN          1668        98.0   \n",
       "2   Season 5    1350  1520.0         NaN          1920       251.0   \n",
       "3   Season 6    1773  1845.0         NaN          1998       223.0   \n",
       "4   Season 7    1950  2084.0         NaN          2107       106.0   \n",
       "\n",
       "   Total Losses  Total ties  Total played  \n",
       "0          25.0         2.0          42.0  \n",
       "1         101.0         7.0         206.0  \n",
       "2         258.0        22.0         531.0  \n",
       "3         191.0        18.0         432.0  \n",
       "4         110.0        10.0         226.0  "
      ]
     },
     "execution_count": 11,
     "metadata": {},
     "output_type": "execute_result"
    }
   ],
   "source": [
    "#Let's take a look at this data that I imported so far. \n",
    "OW_trends312.head()"
   ]
  },
  {
   "cell_type": "markdown",
   "metadata": {},
   "source": [
    "# Looking at Earlier Season Data First"
   ]
  },
  {
   "cell_type": "markdown",
   "metadata": {},
   "source": [
    "Right here, we have the numbers for my performance for the first 7 seasons, with the start aka where I was placed after completing the first 10 matches of the season. This table is nice, but we can take a look at this using a line graph, where I'll be looking at my performance in the first few seasons I played competitive in"
   ]
  },
  {
   "cell_type": "code",
   "execution_count": 22,
   "metadata": {},
   "outputs": [
    {
     "data": {
      "image/png": "[encoded data removed]",
      "text/plain": [
       "<Figure size 432x288 with 1 Axes>"
      ]
     },
     "metadata": {
      "needs_background": "light"
     },
     "output_type": "display_data"
    }
   ],
   "source": [
    "# Y- Axis: SR \n",
    "# X- Axis: Days During Season (Season Lasts APPRX 90 days)\n",
    "#Lines would should performance over time\n",
    "\n",
    "Season3x = [60,80,90]\n",
    "Season3y = [2010,2275,1649]\n",
    "plt.plot(Season3x, Season3y, label = \"Season 3\")\n",
    "\n",
    "Season4x = [5,15,90]\n",
    "Season4y = [1645,1668,1379]\n",
    "plt.plot(Season4x, Season4y, label = \"Season 4\")\n",
    "\n",
    "Season5x = [10,60,90]\n",
    "Season5y = [1350,1920,1520]\n",
    "plt.plot(Season5x, Season5y, label = \"Season 5\")\n",
    "\n",
    "plt.title('Overwatch Performance Season 3-5')\n",
    "plt.xlabel('Days in the Season')\n",
    "plt.ylabel('SR Rating')\n",
    "plt.legend()\n",
    "plt.show()\n",
    "\n"
   ]
  },
  {
   "cell_type": "markdown",
   "metadata": {},
   "source": [
    "When I initially first started playing Overwatch, the competitive season was in the middle of its run, and there are requirements in order to play in the competitive season. The requirements in order to play was that you need to be at level 25 overall, then you would have to place by playing 10 matches, from there your ranking would be determined.\n",
    "\n",
    "There are several ranks in Overwatch Competitive starting with Bronze and going all the way up to Top 500. \n",
    "\n",
    "For this first graph this shows my SR rating going from the starting point all to the highest point where I peaked in the season all the way to the end point of the season. With Season 3, I started in Gold (2000-2500 SR), and unfortunately deranked to Silver, which was expected since I had no idea what I was doing in competitive, and instantly locked onto a role as opposed to learning more roles. Let's take a look at the win:lose ratio in the form of pie graphs."
   ]
  },
  {
   "cell_type": "code",
   "execution_count": null,
   "metadata": {},
   "outputs": [],
   "source": []
  }
 ],
 "metadata": {
  "kernelspec": {
   "display_name": "Python 3",
   "language": "python",
   "name": "python3"
  },
  "language_info": {
   "codemirror_mode": {
    "name": "ipython",
    "version": 3
   },
   "file_extension": ".py",
   "mimetype": "text/x-python",
   "name": "python",
   "nbconvert_exporter": "python",
   "pygments_lexer": "ipython3",
   "version": "3.7.0"
  }
 },
 "nbformat": 4,
 "nbformat_minor": 2
}
